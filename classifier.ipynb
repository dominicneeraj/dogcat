{
 "cells": [
  {
   "cell_type": "code",
   "execution_count": 1,
   "metadata": {
    "collapsed": false
   },
   "outputs": [
    {
     "name": "stderr",
     "output_type": "stream",
     "text": [
      "Using TensorFlow backend.\n"
     ]
    }
   ],
   "source": [
    "from keras.models import Sequential\n",
    "from keras.layers import Conv2D\n",
    "from keras.layers import MaxPooling2D\n",
    "from keras.layers import Flatten\n",
    "from keras.layers import Dense"
   ]
  },
  {
   "cell_type": "code",
   "execution_count": 2,
   "metadata": {
    "collapsed": true
   },
   "outputs": [],
   "source": [
    "# Initialising the CNN\n",
    "classifier = Sequential()\n",
    "# Step 1 - Convolution\n",
    "classifier.add(Conv2D(32, (3, 3), input_shape = (64, 64, 3), activation = 'relu'))\n",
    "# Step 2 - Pooling\n",
    "classifier.add(MaxPooling2D(pool_size = (2, 2)))\n",
    "# Adding a second convolutional layer\n",
    "classifier.add(Conv2D(32, (3, 3), activation = 'relu'))\n",
    "classifier.add(MaxPooling2D(pool_size = (2, 2)))\n",
    "# Step 3 - Flattening\n",
    "classifier.add(Flatten())\n",
    "# Step 4 - Full connection\n",
    "classifier.add(Dense(units = 128, activation = 'relu'))\n",
    "classifier.add(Dense(units = 1, activation = 'sigmoid'))"
   ]
  },
  {
   "cell_type": "code",
   "execution_count": 3,
   "metadata": {
    "collapsed": true
   },
   "outputs": [],
   "source": [
    "classifier.compile(optimizer = 'adam', loss = 'binary_crossentropy', metrics = ['accuracy'])\n",
    "# Part 2 - Fitting the CNN to the images\n",
    "from keras.preprocessing.image import ImageDataGenerator\n",
    "train_datagen = ImageDataGenerator(rescale = 1./255,\n",
    "shear_range = 0.2,\n",
    "zoom_range = 0.2,\n",
    "horizontal_flip = True)\n",
    "test_datagen = ImageDataGenerator(rescale = 1./255)"
   ]
  },
  {
   "cell_type": "code",
   "execution_count": 4,
   "metadata": {
    "collapsed": false
   },
   "outputs": [
    {
     "name": "stdout",
     "output_type": "stream",
     "text": [
      "Found 8005 images belonging to 2 classes.\n",
      "Found 2023 images belonging to 2 classes.\n"
     ]
    }
   ],
   "source": [
    "training_set = train_datagen.flow_from_directory('training_set',\n",
    "target_size = (64, 64),\n",
    "batch_size = 32,\n",
    "class_mode = 'binary')\n",
    "test_set = test_datagen.flow_from_directory('test_set',\n",
    "target_size = (64, 64),\n",
    "batch_size = 32,\n",
    "class_mode = 'binary')"
   ]
  },
  {
   "cell_type": "code",
   "execution_count": 5,
   "metadata": {
    "collapsed": false
   },
   "outputs": [
    {
     "name": "stdout",
     "output_type": "stream",
     "text": [
      "Epoch 1/15\n",
      "8000/8000 [==============================] - 1315s 164ms/step - loss: 0.3767 - acc: 0.8222 - val_loss: 0.4597 - val_acc: 0.8176\n",
      "Epoch 2/15\n",
      "8000/8000 [==============================] - 1228s 153ms/step - loss: 0.1675 - acc: 0.9331 - val_loss: 0.6805 - val_acc: 0.8135\n",
      "Epoch 3/15\n",
      "8000/8000 [==============================] - 1222s 153ms/step - loss: 0.0952 - acc: 0.9637 - val_loss: 0.8049 - val_acc: 0.8215\n",
      "Epoch 4/15\n",
      "8000/8000 [==============================] - 1268s 159ms/step - loss: 0.0701 - acc: 0.9744 - val_loss: 0.8676 - val_acc: 0.8179\n",
      "Epoch 5/15\n",
      "8000/8000 [==============================] - 1269s 159ms/step - loss: 0.0567 - acc: 0.9796 - val_loss: 0.9214 - val_acc: 0.8176\n",
      "Epoch 6/15\n",
      "8000/8000 [==============================] - 1267s 158ms/step - loss: 0.0471 - acc: 0.9832 - val_loss: 0.9883 - val_acc: 0.8143\n",
      "Epoch 7/15\n",
      "8000/8000 [==============================] - 1237s 155ms/step - loss: 0.0405 - acc: 0.9858 - val_loss: 1.0441 - val_acc: 0.8226\n",
      "Epoch 8/15\n",
      "8000/8000 [==============================] - 1216s 152ms/step - loss: 0.0364 - acc: 0.9872 - val_loss: 1.0833 - val_acc: 0.8052\n",
      "Epoch 9/15\n",
      "8000/8000 [==============================] - 1220s 152ms/step - loss: 0.0324 - acc: 0.9887 - val_loss: 1.0554 - val_acc: 0.8248\n",
      "Epoch 10/15\n",
      "8000/8000 [==============================] - 1213s 152ms/step - loss: 0.0297 - acc: 0.9897 - val_loss: 1.1003 - val_acc: 0.8146\n",
      "Epoch 11/15\n",
      "8000/8000 [==============================] - 1221s 153ms/step - loss: 0.0277 - acc: 0.9907 - val_loss: 1.2329 - val_acc: 0.8200\n",
      "Epoch 12/15\n",
      "8000/8000 [==============================] - 1228s 154ms/step - loss: 0.0247 - acc: 0.9916 - val_loss: 1.1559 - val_acc: 0.8130\n",
      "Epoch 13/15\n",
      "8000/8000 [==============================] - 1273s 159ms/step - loss: 0.0235 - acc: 0.9921 - val_loss: 1.2505 - val_acc: 0.8114\n",
      "Epoch 14/15\n",
      "8000/8000 [==============================] - 1270s 159ms/step - loss: 0.0219 - acc: 0.9925 - val_loss: 1.1858 - val_acc: 0.8201\n",
      "Epoch 15/15\n",
      "8000/8000 [==============================] - 1257s 157ms/step - loss: 0.0203 - acc: 0.9931 - val_loss: 1.3050 - val_acc: 0.8092\n"
     ]
    },
    {
     "data": {
      "text/plain": [
       "<keras.callbacks.History at 0x7ff1f83d7748>"
      ]
     },
     "execution_count": 5,
     "metadata": {},
     "output_type": "execute_result"
    }
   ],
   "source": [
    "classifier.fit_generator(training_set,\n",
    "steps_per_epoch = 8000,\n",
    "epochs = 15,\n",
    "validation_data = test_set,\n",
    "validation_steps = 2000)"
   ]
  },
  {
   "cell_type": "code",
   "execution_count": 6,
   "metadata": {
    "collapsed": true
   },
   "outputs": [],
   "source": [
    "from keras.models import load_model\n",
    "classifier.save('model_file.h5')\n"
   ]
  },
  {
   "cell_type": "code",
   "execution_count": null,
   "metadata": {
    "collapsed": true
   },
   "outputs": [],
   "source": []
  }
 ],
 "metadata": {
  "kernelspec": {
   "display_name": "Python 3",
   "language": "python",
   "name": "python3"
  },
  "language_info": {
   "codemirror_mode": {
    "name": "ipython",
    "version": 3
   },
   "file_extension": ".py",
   "mimetype": "text/x-python",
   "name": "python",
   "nbconvert_exporter": "python",
   "pygments_lexer": "ipython3",
   "version": "3.5.4"
  }
 },
 "nbformat": 4,
 "nbformat_minor": 0
}
